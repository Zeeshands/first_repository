{
 "cells": [
  {
   "cell_type": "code",
   "execution_count": 110,
   "metadata": {},
   "outputs": [
    {
     "name": "stdout",
     "output_type": "stream",
     "text": [
      "brand=GIGABYTE\n",
      "title=GIGABYTE GeForce GTX 1660 Ti WINDFORCE OC 6G Graphics Card, 2 x WINDFORCE Fans, 6GB 192-Bit GDDR6, GV-N166TWF2OC-6GD Video Card\n",
      "price_ship=Free Shipping\n",
      "brand=EVGA\n",
      "title=EVGA GeForce RTX 2070 XC GAMING, 08G-P4-2172-KR, 8GB GDDR6, Dual HDB Fans & RGB LED\n",
      "price_ship=Free Shipping\n",
      "brand=ASUS\n",
      "title=ASUS ROG GeForce RTX 2070 DirectX 12 ROG-STRIX-RTX2070-O8G-GAMING 8GB 256-Bit GDDR6 PCI Express 3.0 HDCP Ready Video Card\n",
      "price_ship=Free Shipping\n",
      "brand=Sapphire Tech\n",
      "title=Sapphire Radeon NITRO+ RX 580 8GB GDDR5 PCI-E Dual HDMI / DVI-D / Dual DP w/ Backplate SPECIAL EDITION (UEFI), 100411NT+8GSEL\n",
      "price_ship=Free Shipping\n",
      "brand=EVGA\n",
      "title=EVGA GeForce RTX 2080 Ti FTW3 ULTRA GAMING, 11G-P4-2487-KR, 11GB GDDR6, iCX2 & RGB LED\n",
      "price_ship=Free Shipping\n",
      "brand=ASUS\n",
      "title=ASUS AREZ Strix Radeon RX Vega 56 AREZ-STRIX-RXVEGA56-O8G-GAMING 8GB 2048-Bit HBM2 PCI Express 3.0 HDCP Ready CrossFireX Support Video Card\n",
      "price_ship=Free Shipping\n",
      "brand=Sapphire Tech\n",
      "title=Sapphire Radeon NITRO+ RX 580 8GB GDDR5 PCI-E Dual HDMI / DVI-D / Dual DP w/ Backplate (UEFI), 100411NT+8GL\n",
      "price_ship=Free Shipping\n",
      "brand=ZOTAC\n",
      "title=ZOTAC GAMING GeForce RTX 2060 AMP 6GB GDDR6 192-bit Gaming Graphics Card, Super Compact, IceStorm 2.0, ZT-T20600D-10M\n",
      "price_ship=Free Shipping\n",
      "brand=MSI\n",
      "title=MSI Radeon RX 580 DirectX 12 RX 580 ARMOR MK2 8G OC 8GB 256-Bit GDDR5 PCI Express x16 HDCP Ready CrossFireX Support Video Card\n",
      "price_ship=Free Shipping\n",
      "brand=ASRock\n",
      "title=ASRock Phantom Gaming X Radeon RX 590 DirectX 12 RX590 8G OC 8GB 256-Bit GDDR5 PCI Express 3.0 x16 HDCP Ready Video Card\n",
      "price_ship=Free Shipping\n",
      "brand=GIGABYTE\n",
      "title=GIGABYTE GeForce RTX 2070 WINDFORCE 8G Graphics Card, 3 x WINDFORCE Fans, 8GB 256-Bit GDDR6, GV-N2070WF3-8GC Video Card\n",
      "price_ship=Free Shipping\n",
      "brand=ZOTAC\n",
      "title=ZOTAC GeForce GTX 1060 DirectX 12 ZT-P10620A-10M 6GB 192-Bit GDDR5X PCI Express 3.0 HDCP Ready Video Card\n",
      "price_ship=Free Shipping\n"
     ]
    }
   ],
   "source": [
    "from urllib.request import urlopen\n",
    "from bs4 import BeautifulSoup as bs\n",
    "\n",
    "url='https://www.newegg.com/Video-Cards-Video-Devices/Category/ID-38?Tpk=graphics%20card'\n",
    "\n",
    "res=urlopen(url)\n",
    "page=res.read()\n",
    "res.close()\n",
    "len(page)\n",
    "page_soup=bs(page,\"html.parser\")\n",
    "page_soup.p\n",
    "containers = page_soup.findAll('div',{'class':'item-container'})\n",
    "len(containers)\n",
    "c=containers[0]\n",
    "\n",
    "#for con in containers:\n",
    "# con.find_all('div')[2].a.img['title']\n",
    "\n",
    "#t=con.find_all('a',{'class','item-title'})\n",
    "\n",
    "#for con in containers:\n",
    "# print(con.a.img['title'])\n",
    "\n",
    "#for con in containers:\n",
    "\n",
    "#print(c.find_all('div')[3].find_all('li',{'class','price-ship'})[0].text.strip() )\n",
    "f=open('products.csv','w')\n",
    "f.write('Brand,Product Name,Shipping\\n')\n",
    "\n",
    "\n",
    "\n",
    "for con in containers:\n",
    "    brand=con.find_all('div')[2].a.img['title']\n",
    "    title=con.a.img['title']\n",
    "    price_ship=con.find_all('div')[3].find_all('li',{'class','price-ship'})[0].text.strip() \n",
    "    \n",
    "    print('brand='+brand)\n",
    "    print('title='+title)\n",
    "    print('price_ship='+price_ship)\n",
    "    \n",
    "    f.write(brand+','+title.replace(',',' ')+','+price_ship+'\\n')\n",
    "\n",
    "f.close()"
   ]
  },
  {
   "cell_type": "code",
   "execution_count": null,
   "metadata": {},
   "outputs": [],
   "source": []
  }
 ],
 "metadata": {
  "kernelspec": {
   "display_name": "Python 3",
   "language": "python",
   "name": "python3"
  },
  "language_info": {
   "codemirror_mode": {
    "name": "ipython",
    "version": 3
   },
   "file_extension": ".py",
   "mimetype": "text/x-python",
   "name": "python",
   "nbconvert_exporter": "python",
   "pygments_lexer": "ipython3",
   "version": "3.7.0"
  }
 },
 "nbformat": 4,
 "nbformat_minor": 2
}
